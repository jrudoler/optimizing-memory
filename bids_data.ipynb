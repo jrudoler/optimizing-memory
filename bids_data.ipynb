{
 "cells": [
  {
   "cell_type": "code",
   "execution_count": 36,
   "metadata": {},
   "outputs": [],
   "source": [
    "import numpy as np\n",
    "import pandas as pd\n",
    "import mne\n",
    "from mne_bids import (BIDSPath, read_raw_bids, find_matching_paths)\n",
    "import xarray as xr\n",
    "from ptsa.data.timeseries import TimeSeries\n",
    "from ptsa.data.concat import concat\n",
    "import os\n",
    "import pickle\n",
    "\n",
    "def mne_to_ptsa(ep):\n",
    "    '''Create an PTSA TimeSeries (essentially xarray) version of MNE epoch data'''\n",
    "    assert ep.metadata is not None, \"Please define mne.Epoch.metadata\"\n",
    "    ts = TimeSeries(\n",
    "        ep.get_data(copy=True), dims=('event','channel','time'),\n",
    "        coords={'event':pd.MultiIndex.from_frame(ep.metadata),\n",
    "                'channel':ep.info['ch_names'],\n",
    "                'time':ep.times,\n",
    "                'samplerate':ep.info['sfreq']},\n",
    "        name='data'\n",
    "    )\n",
    "    ts = ts.reset_index('event')\n",
    "    return ts"
   ]
  },
  {
   "cell_type": "code",
   "execution_count": 34,
   "metadata": {},
   "outputs": [],
   "source": [
    "ep = epochs\n",
    "assert ep.metadata is not None, \"Please define mne.Epoch.metadata\"\n",
    "ts = TimeSeries(\n",
    "    ep.get_data(copy=True), dims=('event','channel','time'),\n",
    "    coords={'event':pd.MultiIndex.from_frame(ep.metadata),\n",
    "                        'channel':ep.info['ch_names'],\n",
    "                        'time':ep.times,\n",
    "                        'samplerate':ep.info['sfreq']},\n",
    "    name='data'\n",
    "    )\n",
    "ts = ts.reset_index('event')\n",
    "# ts = ts.set_index({\"event\": [coord for coord in ts.event.coords if coord != \"samplerate\"]})"
   ]
  },
  {
   "cell_type": "code",
   "execution_count": 5,
   "metadata": {},
   "outputs": [],
   "source": [
    "subject = 'LTP453'\n",
    "settings_path = \"settings/phase1_settings.pkl\"\n",
    "settings = pickle.load(open(settings_path, 'rb'))"
   ]
  },
  {
   "cell_type": "code",
   "execution_count": 37,
   "metadata": {},
   "outputs": [
    {
     "name": "stdout",
     "output_type": "stream",
     "text": [
      "Not setting metadata\n",
      "120 matching events found\n",
      "No baseline correction applied\n",
      "0 projection items activated\n",
      "Loading data for 120 events and 4097 original time points ...\n"
     ]
    },
    {
     "name": "stderr",
     "output_type": "stream",
     "text": [
      "/var/folders/7h/662tdm8d6sn0krrht717wzmm0000gq/T/ipykernel_4676/2285922562.py:14: RuntimeWarning: The unit for channel(s) EXG5, EXG6, EXG7, EXG8 has changed from V to NA.\n",
      "  raw = read_raw_bids(bids_path, extra_params={\"infer_types\":True}, verbose=False)\n",
      "/var/folders/7h/662tdm8d6sn0krrht717wzmm0000gq/T/ipykernel_4676/2285922562.py:14: RuntimeWarning: The unit for channel(s) Status has changed from NA to V.\n",
      "  raw = read_raw_bids(bids_path, extra_params={\"infer_types\":True}, verbose=False)\n",
      "/var/folders/7h/662tdm8d6sn0krrht717wzmm0000gq/T/ipykernel_4676/2285922562.py:14: RuntimeWarning: There are channels without locations (n/a) that are not marked as bad: ['EXG1', 'EXG2', 'EXG3', 'EXG4', 'EXG5', 'EXG6', 'EXG7', 'EXG8', 'Status']\n",
      "  raw = read_raw_bids(bids_path, extra_params={\"infer_types\":True}, verbose=False)\n",
      "/var/folders/7h/662tdm8d6sn0krrht717wzmm0000gq/T/ipykernel_4676/2285922562.py:14: RuntimeWarning: Not setting positions of 9 eog/misc/stim channels found in montage:\n",
      "['EXG1', 'EXG2', 'EXG3', 'EXG4', 'EXG5', 'EXG6', 'EXG7', 'EXG8', 'Status']\n",
      "Consider setting the channel types to be of EEG/sEEG/ECoG/DBS/fNIRS using inst.set_channel_types before calling inst.set_montage, or omit these channels when creating your montage.\n",
      "  raw = read_raw_bids(bids_path, extra_params={\"infer_types\":True}, verbose=False)\n"
     ]
    },
    {
     "name": "stdout",
     "output_type": "stream",
     "text": [
      "0 bad epochs dropped\n",
      "Adding metadata with 15 columns\n"
     ]
    }
   ],
   "source": [
    "bids_root = \"~/data/nicls_bids\"\n",
    "bids_root = os.path.expanduser(bids_root)\n",
    "bids_paths = find_matching_paths(\n",
    "    bids_root, \n",
    "    subjects=subject, \n",
    "    tasks=\"NiclsCourierReadOnly\",\n",
    "    datatypes=\"eeg\",\n",
    "    extensions=\".bdf\"\n",
    "    )\n",
    "all_sessions = []\n",
    "for bids_path in bids_paths[0:1]:\n",
    "    events_path = bids_path.copy().update(suffix=\"events\", extension=\".tsv\")\n",
    "    event_df = pd.read_csv(events_path, sep=\"\\t\")\n",
    "    raw = read_raw_bids(bids_path, extra_params={\"infer_types\":True}, verbose=False)\n",
    "    mne_events, mne_event_id = mne.events_from_annotations(raw, verbose=False)\n",
    "    epochs = mne.Epochs(\n",
    "        raw,\n",
    "        mne_events, \n",
    "        event_id={'WORD':mne_event_id['WORD']}, \n",
    "        event_repeated='drop', \n",
    "        tmin=(settings['rel_start']-settings['buffer_time'])/1000.,\n",
    "        tmax=(settings['rel_stop']+settings['buffer_time'])/1000., \n",
    "        baseline=None, \n",
    "        preload=True\n",
    "    )\n",
    "    epochs.metadata = event_df.query(\"trial_type=='WORD'\").reset_index(drop=True)\n",
    "    # do more stuff here\n",
    "    all_sessions.append(mne_to_ptsa(epochs))\n",
    "all_sessions = concat(all_sessions, 'event')\n",
    "    "
   ]
  },
  {
   "cell_type": "markdown",
   "metadata": {},
   "source": [
    "Check against cmlreaders"
   ]
  },
  {
   "cell_type": "code",
   "execution_count": null,
   "metadata": {},
   "outputs": [
    {
     "ename": "",
     "evalue": "",
     "output_type": "error",
     "traceback": [
      "\u001b[1;31mFailed to start the Kernel. \n",
      "\u001b[1;31mTraceback (most recent call last):\n",
      "\u001b[1;31m  File \"<frozen runpy>\", line 198, in _run_module_as_main\n",
      "\u001b[1;31m  File \"<frozen runpy>\", line 88, in _run_code\n",
      "\u001b[1;31m  File \"/Users/jrudoler/miniconda3/envs/optimizing-memory/lib/python3.11/site-packages/ipykernel_launcher.py\", line 16, in <module>\n",
      "\u001b[1;31m    from ipykernel import kernelapp as app\n",
      "\u001b[1;31m  File \"/Users/jrudoler/miniconda3/envs/optimizing-memory/lib/python3.11/site-packages/ipykernel/kernelapp.py\", line 21, in <module>\n",
      "\u001b[1;31m    from IPython.core.application import (  # type:ignore[attr-defined]\n",
      "\u001b[1;31m  File \"/Users/jrudoler/miniconda3/envs/optimizing-memory/lib/python3.11/site-packages/IPython/__init__.py\", line 55, in <module>\n",
      "\u001b[1;31m    from .terminal.embed import embed\n",
      "\u001b[1;31m  File \"/Users/jrudoler/miniconda3/envs/optimizing-memory/lib/python3.11/site-packages/IPython/terminal/embed.py\", line 15, in <module>\n",
      "\u001b[1;31m    from IPython.core.interactiveshell import DummyMod, InteractiveShell\n",
      "\u001b[1;31m  File \"/Users/jrudoler/miniconda3/envs/optimizing-memory/lib/python3.11/site-packages/IPython/core/interactiveshell.py\", line 110, in <module>\n",
      "\u001b[1;31m    from IPython.core.history import HistoryManager\n",
      "\u001b[1;31m  File \"/Users/jrudoler/miniconda3/envs/optimizing-memory/lib/python3.11/site-packages/IPython/core/history.py\", line 10, in <module>\n",
      "\u001b[1;31m    import sqlite3\n",
      "\u001b[1;31m  File \"/Users/jrudoler/miniconda3/envs/optimizing-memory/lib/python3.11/sqlite3/__init__.py\", line 57, in <module>\n",
      "\u001b[1;31m    from sqlite3.dbapi2 import *\n",
      "\u001b[1;31m  File \"/Users/jrudoler/miniconda3/envs/optimizing-memory/lib/python3.11/sqlite3/dbapi2.py\", line 27, in <module>\n",
      "\u001b[1;31m    from _sqlite3 import *\n",
      "\u001b[1;31mImportError: dlopen(/Users/jrudoler/miniconda3/envs/optimizing-memory/lib/python3.11/lib-dynload/_sqlite3.cpython-311-darwin.so, 0x0002): Symbol not found: _sqlite3_enable_load_extension\n",
      "\u001b[1;31m  Referenced from: <70F1DCE8-3D0F-3766-9D17-14201FC080E6> /Users/jrudoler/miniconda3/envs/optimizing-memory/lib/python3.11/lib-dynload/_sqlite3.cpython-311-darwin.so\n",
      "\u001b[1;31m  Expected in:     <F6219E0F-E23A-3D19-B004-3DE03A2D91C5> /usr/lib/libsqlite3.dylib. \n",
      "\u001b[1;31mView Jupyter <a href='command:jupyter.viewOutput'>log</a> for further details."
     ]
    }
   ],
   "source": [
    "import cmlreaders as cml\n",
    "data = cml.get_data_index(kind = 'ltp')\n",
    "data = data[(data['experiment']==settings['experiment'])&(data['subject']==subject)].sort_values('session').reset_index()\n",
    "# cml.CMLReader(subject=subject, experiment=row['experiment'], session=row['session'])\n",
    "r = cml.CMLReader(subject, experiment=settings['experiment'], session=0)\n",
    "evs = r.load('task_events')\n",
    "word_evs = evs[(evs.type=='WORD')&(evs.eegoffset!=-1)]\n",
    "if len(word_evs)==0:\n",
    "    # continue # sync pulses not recorded\n",
    "    print(\"bad!\")\n",
    "eeg = r.load_eeg(word_evs,\n",
    "                    rel_start=settings['rel_start'] - settings['buffer_time'],\n",
    "                    rel_stop=settings['rel_stop'] + settings['buffer_time'],\n",
    "                    clean=settings['clean']\n",
    "                ).to_ptsa()"
   ]
  },
  {
   "cell_type": "code",
   "execution_count": null,
   "metadata": {},
   "outputs": [
    {
     "ename": "",
     "evalue": "",
     "output_type": "error",
     "traceback": [
      "\u001b[1;31mFailed to start the Kernel. \n",
      "\u001b[1;31mTraceback (most recent call last):\n",
      "\u001b[1;31m  File \"<frozen runpy>\", line 198, in _run_module_as_main\n",
      "\u001b[1;31m  File \"<frozen runpy>\", line 88, in _run_code\n",
      "\u001b[1;31m  File \"/Users/jrudoler/miniconda3/envs/optimizing-memory/lib/python3.11/site-packages/ipykernel_launcher.py\", line 16, in <module>\n",
      "\u001b[1;31m    from ipykernel import kernelapp as app\n",
      "\u001b[1;31m  File \"/Users/jrudoler/miniconda3/envs/optimizing-memory/lib/python3.11/site-packages/ipykernel/kernelapp.py\", line 21, in <module>\n",
      "\u001b[1;31m    from IPython.core.application import (  # type:ignore[attr-defined]\n",
      "\u001b[1;31m  File \"/Users/jrudoler/miniconda3/envs/optimizing-memory/lib/python3.11/site-packages/IPython/__init__.py\", line 55, in <module>\n",
      "\u001b[1;31m    from .terminal.embed import embed\n",
      "\u001b[1;31m  File \"/Users/jrudoler/miniconda3/envs/optimizing-memory/lib/python3.11/site-packages/IPython/terminal/embed.py\", line 15, in <module>\n",
      "\u001b[1;31m    from IPython.core.interactiveshell import DummyMod, InteractiveShell\n",
      "\u001b[1;31m  File \"/Users/jrudoler/miniconda3/envs/optimizing-memory/lib/python3.11/site-packages/IPython/core/interactiveshell.py\", line 110, in <module>\n",
      "\u001b[1;31m    from IPython.core.history import HistoryManager\n",
      "\u001b[1;31m  File \"/Users/jrudoler/miniconda3/envs/optimizing-memory/lib/python3.11/site-packages/IPython/core/history.py\", line 10, in <module>\n",
      "\u001b[1;31m    import sqlite3\n",
      "\u001b[1;31m  File \"/Users/jrudoler/miniconda3/envs/optimizing-memory/lib/python3.11/sqlite3/__init__.py\", line 57, in <module>\n",
      "\u001b[1;31m    from sqlite3.dbapi2 import *\n",
      "\u001b[1;31m  File \"/Users/jrudoler/miniconda3/envs/optimizing-memory/lib/python3.11/sqlite3/dbapi2.py\", line 27, in <module>\n",
      "\u001b[1;31m    from _sqlite3 import *\n",
      "\u001b[1;31mImportError: dlopen(/Users/jrudoler/miniconda3/envs/optimizing-memory/lib/python3.11/lib-dynload/_sqlite3.cpython-311-darwin.so, 0x0002): Symbol not found: _sqlite3_enable_load_extension\n",
      "\u001b[1;31m  Referenced from: <70F1DCE8-3D0F-3766-9D17-14201FC080E6> /Users/jrudoler/miniconda3/envs/optimizing-memory/lib/python3.11/lib-dynload/_sqlite3.cpython-311-darwin.so\n",
      "\u001b[1;31m  Expected in:     <F6219E0F-E23A-3D19-B004-3DE03A2D91C5> /usr/lib/libsqlite3.dylib. \n",
      "\u001b[1;31mView Jupyter <a href='command:jupyter.viewOutput'>log</a> for further details."
     ]
    }
   ],
   "source": [
    "assert (eeg.item == all_sessions[0].item).all()\n",
    "assert (all_sessions[0]['item'].values == eeg['item'].values).all()"
   ]
  }
 ],
 "metadata": {
  "kernelspec": {
   "display_name": "py38",
   "language": "python",
   "name": "python3"
  },
  "language_info": {
   "codemirror_mode": {
    "name": "ipython",
    "version": 3
   },
   "file_extension": ".py",
   "mimetype": "text/x-python",
   "name": "python",
   "nbconvert_exporter": "python",
   "pygments_lexer": "ipython3",
   "version": "3.11.8"
  }
 },
 "nbformat": 4,
 "nbformat_minor": 2
}
