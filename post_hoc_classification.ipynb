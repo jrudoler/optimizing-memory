{
    "cells": [
        {
            "cell_type": "code",
            "execution_count": 17,
            "id": "7f6d3364",
            "metadata": {},
            "outputs": [],
            "source": [
                "# import warnings\n",
                "# warnings.simplefilter('ignore')\n",
                "import sys\n",
                "sys.path.append('/home1/jrudoler/src/')\n",
                "import cmlreaders as cml\n",
                "import numpy as np\n",
                "from scipy.stats import zscore\n",
                "import matplotlib.pyplot as plt\n",
                "plt.rcParams['pdf.fonttype'] = 42\n",
                "# plt.rcParams['savefig.facecolor']='white'\n",
                "import seaborn as sns\n",
                "import pandas as pd\n",
                "pd.options.display.max_rows = 50\n",
                "pd.options.display.max_columns = None\n",
                "from pd_to_pb import pandas_to_pybeh as pb\n",
                "import scipy as scp\n",
                "plt.rcParams['axes.labelsize'] = 16\n",
                "from classifier_io import ClassifierModel\n",
                "from sklearn.linear_model import LogisticRegression\n",
                "from sklearn import __version__ as sklearn_version\n",
                "import pickle\n",
                "from ptsa.data.filters import MorletWaveletFilter, ButterworthFilter\n",
                "from ptsa.data.timeseries import TimeSeries\n",
                "sns.set_palette('twilight')\n",
                "import cmldask.CMLDask as da\n",
                "from nicls_helpers import *\n",
                "from compute_raw_event_features import compute_raw_event_features\n",
                "\n",
                "subject_list = np.loadtxt(\"final_subject_list.txt\", dtype=str)"
            ]
        },
        {
            "cell_type": "markdown",
            "id": "a6f6b6fe",
            "metadata": {},
            "source": [
                "We need to be cautious when matching the EEG epoch used during the experiment, since it's different than the interval used during training"
            ]
        },
        {
            "cell_type": "code",
            "execution_count": 3,
            "id": "777aca4e",
            "metadata": {},
            "outputs": [
                {
                    "data": {
                        "text/plain": [
                            "Settings(freqs=array([  6.        ,   9.75368156,  15.85571732,  25.77526961,\n",
                            "        41.90062864,  68.11423148, 110.72742057, 180.        ]), width=5, buffer_time=416, rel_start=-1584, rel_stop=-416, experiment='NiclsCourierClosedLoop', clean=0, save=1, reference='average')"
                        ]
                    },
                    "execution_count": 3,
                    "metadata": {},
                    "output_type": "execute_result"
                }
            ],
            "source": [
                "settings = da.Settings()\n",
                "settings['freqs'] = np.logspace(np.log10(6), np.log10(180), 8)\n",
                "settings['width'] = 5\n",
                "settings['buffer_time'] = int((1 / min(settings['freqs']) * settings['width'] / 2)*1000)\n",
                "settings['rel_start'] = settings['buffer_time'] - 2000\n",
                "settings['rel_stop'] =  -settings['buffer_time']\n",
                "settings['experiment'] = 'NiclsCourierClosedLoop'\n",
                "settings['clean'] = 0\n",
                "settings['save'] = 1\n",
                "settings['reference'] = 'average'\n",
                "settings['save'](\"settings/phase2_settings_classifier.pkl\")\n",
                "settings"
            ]
        },
        {
            "cell_type": "code",
            "execution_count": 18,
            "id": "264b9cf1",
            "metadata": {},
            "outputs": [],
            "source": [
                "events = pd.read_csv(\"processed_events_NiclsCourierClosedLoop.csv\", index_col=0)"
            ]
        },
        {
            "cell_type": "code",
            "execution_count": 39,
            "id": "afdcae94",
            "metadata": {},
            "outputs": [
                {
                    "data": {
                        "text/plain": [
                            "1508"
                        ]
                    },
                    "execution_count": 39,
                    "metadata": {},
                    "output_type": "execute_result"
                }
            ],
            "source": [
                "events.query(\"type=='WORD' and trial_type!='NoStim'\")['probability'].isna().sum()"
            ]
        },
        {
            "cell_type": "code",
            "execution_count": 30,
            "id": "35e5d84c",
            "metadata": {},
            "outputs": [
                {
                    "name": "stdout",
                    "output_type": "stream",
                    "text": [
                        "Unique port for jrudoler is 51360\n",
                        "{'dashboard_address': ':51360'}\n",
                        "To view the dashboard, run: \n",
                        "`ssh -fN jrudoler@rhino2.psych.upenn.edu -L 8000:192.168.86.144:51360` in your local computer's terminal (NOT rhino) \n",
                        "and then navigate to localhost:8000 in your browser\n"
                    ]
                }
            ],
            "source": [
                "client = da.new_dask_client_slurm(\"nicls_analysis\",\n",
                "                            \"120GB\",\n",
                "                           log_directory='/home1/jrudoler/logs/')"
            ]
        },
        {
            "cell_type": "code",
            "execution_count": 4,
            "id": "c77eb949",
            "metadata": {},
            "outputs": [],
            "source": [
                "class_events = events.query(\"type == 'CLASSIFIER' and next_type=='WORD'\")"
            ]
        },
        {
            "cell_type": "code",
            "execution_count": 34,
            "id": "df4ae1e2",
            "metadata": {},
            "outputs": [],
            "source": [
                "settings_path = \"settings/phase2_settings_classifier.pkl\"\n",
                "save_path = \"/scratch/nicls_intermediate/closed_loop/classifier_powers/\"\n",
                "futures = []\n",
                "for subject, evs in class_events.groupby(\"subject\"):\n",
                "    fut = client.submit(compute_raw_event_features, evs, subject, settings_path, save_path)\n",
                "    futures.append(fut)"
            ]
        },
        {
            "cell_type": "code",
            "execution_count": 10,
            "id": "bd3f3712",
            "metadata": {},
            "outputs": [],
            "source": [
                "import statsmodels.formula.api as smf"
            ]
        },
        {
            "cell_type": "code",
            "execution_count": 31,
            "id": "7c124dd5",
            "metadata": {},
            "outputs": [],
            "source": [
                "full_data = []\n",
                "performance_stats = pd.read_csv(\"system_performance_stats.csv\", header=[0, 1], index_col=[0, 1])\n",
                "for subject in subject_list:\n",
                "    save_path = \"/scratch/nicls_intermediate/closed_loop/classifier_powers/\"\n",
                "    try:\n",
                "        ts = TimeSeries.from_hdf(save_path+subject+\"_raw_feats.h5\")\n",
                "    except:\n",
                "        print(\"hey!\")\n",
                "        continue\n",
                "    perf = performance_stats.loc[subject]\n",
                "    good_sessions = perf.index.values[~perf['bad_session'].values.ravel()]\n",
                "    evs = events.query(\n",
                "        \"subject==@subject and session in @good_sessions\"\n",
                "    ).dropna(subset=[\"eegoffset\", \"probability\"])\n",
                "    ts = ts[np.isin(ts.session, good_sessions)]\n",
                "    ts = ts.groupby('session').reduce(zscore, ddof=1, keep_attrs=True)     \n",
                "    # ts = ts.groupby('session').apply(norm_sess_feats, n_lists=2)\n",
                "    model = ClassifierModel(\n",
                "        LogisticRegression(),\n",
                "        sklearn_version=sklearn_version\n",
                "    ).load_json(f\"/data/eeg/scalp/ltp/NiclsCourierReadOnly/{subject}/nicls_{subject}_classifier.json\").model\n",
                "    probs = model.predict_proba(ts.data)[:, 1]\n",
                "    evs = evs.query(\"type=='CLASSIFIER' and next_type=='WORD'\")\n",
                "    evs[\"ideal_proba\"] = probs\n",
                "    full_data.append(evs)\n",
                "\n",
                "full_data = pd.concat(full_data)\n",
                "full_data[\"matched_predictions\"] = np.sign(full_data['probability']-0.5)==np.sign(full_data['ideal_proba']-0.5)\n",
                "full_data.to_csv(\"classifier_events_with_matched_predictions.csv\")"
            ]
        },
        {
            "cell_type": "code",
            "execution_count": 22,
            "id": "495a95b9",
            "metadata": {},
            "outputs": [
                {
                    "data": {
                        "text/html": [
                            "<table class=\"simpletable\">\n",
                            "<tr>\n",
                            "       <td>Model:</td>       <td>MixedLM</td> <td>Dependent Variable:</td>  <td>recalled</td> \n",
                            "</tr>\n",
                            "<tr>\n",
                            "  <td>No. Observations:</td>  <td>1915</td>         <td>Method:</td>          <td>REML</td>   \n",
                            "</tr>\n",
                            "<tr>\n",
                            "     <td>No. Groups:</td>      <td>21</td>          <td>Scale:</td>          <td>0.1948</td>  \n",
                            "</tr>\n",
                            "<tr>\n",
                            "  <td>Min. group size:</td>    <td>10</td>      <td>Log-Likelihood:</td>   <td>-1178.0377</td>\n",
                            "</tr>\n",
                            "<tr>\n",
                            "  <td>Max. group size:</td>    <td>179</td>       <td>Converged:</td>          <td>Yes</td>   \n",
                            "</tr>\n",
                            "<tr>\n",
                            "  <td>Mean group size:</td>   <td>91.2</td>            <td></td>                <td></td>     \n",
                            "</tr>\n",
                            "</table>\n",
                            "<table class=\"simpletable\">\n",
                            "<tr>\n",
                            "             <td></td>              <th>Coef.</th> <th>Std.Err.</th>    <th>z</th>   <th>P>|z|</th> <th>[0.025</th> <th>0.975]</th>\n",
                            "</tr>\n",
                            "<tr>\n",
                            "  <th>Intercept</th>                <td>0.751</td>   <td>0.063</td>  <td>11.944</td> <td>0.000</td>  <td>0.628</td>  <td>0.875</td>\n",
                            "</tr>\n",
                            "<tr>\n",
                            "  <th>probability</th>             <td>-0.222</td>   <td>0.107</td>  <td>-2.085</td> <td>0.037</td> <td>-0.431</td> <td>-0.013</td>\n",
                            "</tr>\n",
                            "<tr>\n",
                            "  <th>probability:ideal_proba</th>  <td>0.222</td>   <td>0.073</td>   <td>3.031</td> <td>0.002</td>  <td>0.078</td>  <td>0.365</td>\n",
                            "</tr>\n",
                            "<tr>\n",
                            "  <th>Group Var</th>                <td>0.019</td>   <td>0.016</td>     <td></td>      <td></td>       <td></td>       <td></td>   \n",
                            "</tr>\n",
                            "</table>"
                        ],
                        "text/plain": [
                            "<class 'statsmodels.iolib.summary2.Summary'>\n",
                            "\"\"\"\n",
                            "              Mixed Linear Model Regression Results\n",
                            "==================================================================\n",
                            "Model:                MixedLM    Dependent Variable:    recalled  \n",
                            "No. Observations:     1915       Method:                REML      \n",
                            "No. Groups:           21         Scale:                 0.1948    \n",
                            "Min. group size:      10         Log-Likelihood:        -1178.0377\n",
                            "Max. group size:      179        Converged:             Yes       \n",
                            "Mean group size:      91.2                                        \n",
                            "------------------------------------------------------------------\n",
                            "                        Coef.  Std.Err.   z    P>|z| [0.025 0.975]\n",
                            "------------------------------------------------------------------\n",
                            "Intercept                0.751    0.063 11.944 0.000  0.628  0.875\n",
                            "probability             -0.222    0.107 -2.085 0.037 -0.431 -0.013\n",
                            "probability:ideal_proba  0.222    0.073  3.031 0.002  0.078  0.365\n",
                            "Group Var                0.019    0.016                           \n",
                            "==================================================================\n",
                            "\n",
                            "\"\"\""
                        ]
                    },
                    "execution_count": 22,
                    "metadata": {},
                    "output_type": "execute_result"
                }
            ],
            "source": [
                "memodel = smf.mixedlm(\"recalled ~ probability + probability:ideal_proba\",\n",
                "                      full_data.query(\"trial_type=='Pos'\"),\n",
                "                      groups=full_data.query(\"trial_type=='Pos'\")[\"subject\"])\n",
                "fit = memodel.fit()\n",
                "fit.summary()"
            ]
        },
        {
            "cell_type": "code",
            "execution_count": 15,
            "id": "ec28ef1a",
            "metadata": {
                "collapsed": true,
                "jupyter": {
                    "outputs_hidden": true
                },
                "tags": []
            },
            "outputs": [
                {
                    "data": {
                        "text/plain": [
                            "array([False, False, False, False, False, False,  True, False, False,\n",
                            "        True, False,  True, False,  True, False, False, False, False,\n",
                            "       False, False,  True, False, False, False, False,  True, False,\n",
                            "        True,  True,  True,  True, False,  True, False, False,  True,\n",
                            "        True,  True, False, False, False, False, False,  True, False,\n",
                            "        True, False, False, False,  True, False,  True,  True, False,\n",
                            "       False, False, False,  True, False, False, False, False, False,\n",
                            "       False, False, False, False, False,  True,  True, False, False,\n",
                            "       False,  True, False, False, False,  True,  True,  True, False,\n",
                            "       False, False, False,  True,  True, False,  True, False, False,\n",
                            "        True, False,  True, False, False, False,  True,  True,  True,\n",
                            "        True, False, False,  True,  True,  True,  True, False, False,\n",
                            "        True, False, False,  True, False,  True, False,  True,  True,\n",
                            "       False, False,  True, False,  True, False, False, False, False,\n",
                            "       False, False, False, False, False, False,  True, False,  True,\n",
                            "        True,  True, False, False, False,  True, False, False,  True,\n",
                            "       False, False, False, False, False, False,  True, False, False,\n",
                            "        True, False, False, False, False,  True, False, False, False,\n",
                            "        True, False,  True,  True,  True,  True,  True,  True,  True,\n",
                            "        True, False, False,  True, False, False,  True,  True, False,\n",
                            "       False, False, False, False,  True, False,  True, False, False,\n",
                            "       False,  True,  True, False, False,  True, False,  True, False,\n",
                            "       False, False,  True, False, False, False, False, False,  True,\n",
                            "        True, False, False, False, False, False, False,  True,  True,\n",
                            "        True, False, False,  True, False,  True,  True, False,  True,\n",
                            "       False, False, False, False, False, False, False, False, False,\n",
                            "        True,  True, False, False, False, False, False, False,  True,\n",
                            "       False, False, False, False, False, False, False, False,  True,\n",
                            "        True,  True,  True, False, False, False, False,  True,  True,\n",
                            "        True, False, False, False,  True,  True,  True,  True, False,\n",
                            "       False, False, False,  True, False, False, False, False,  True,\n",
                            "       False, False, False, False,  True, False, False, False, False,\n",
                            "       False,  True,  True, False, False,  True,  True,  True,  True,\n",
                            "        True, False, False, False, False, False,  True,  True,  True,\n",
                            "        True, False,  True,  True,  True,  True,  True, False,  True,\n",
                            "       False, False,  True, False, False,  True,  True, False, False,\n",
                            "       False,  True, False,  True,  True, False,  True, False,  True,\n",
                            "        True,  True,  True,  True,  True, False, False])"
                        ]
                    },
                    "execution_count": 15,
                    "metadata": {},
                    "output_type": "execute_result"
                }
            ],
            "source": [
                "np.isclose(probs, \n",
                "           evs.query(\"type=='CLASSIFIER' and next_type=='WORD'\")['probability'].values,\n",
                "           atol=.05)"
            ]
        },
        {
            "cell_type": "markdown",
            "id": "37557fd1",
            "metadata": {},
            "source": [
                "## Memory Improvement"
            ]
        },
        {
            "cell_type": "code",
            "execution_count": 6,
            "id": "e8c074db",
            "metadata": {},
            "outputs": [],
            "source": [
                "with open(f\"loso_results_read_only.pkl\", \"rb\") as f:\n",
                "    result_dict = pickle.load(f)\n",
                "with open(f\"clf_results_closed_loop.pkl\", \"rb\") as f:\n",
                "    cl_result_dict = pickle.load(f)\n",
                "    \n",
                "avg = full_data.groupby(\n",
                "    ['subject', 'session']\n",
                ").agg(\n",
                "    {'recalled':'mean'}\n",
                ").mean(level=0)\n",
                "\n",
                "above_med = avg >= avg.median()\n",
                "\n",
                "avg = avg.reset_index()\n",
                "avg['RO_auc'] = avg['subject'].apply(lambda k: result_dict[k][2])\n",
                "avg['CL_auc'] = avg['subject'].apply(lambda k: cl_result_dict[k][2])\n",
                "avg.set_index('subject')\n",
                "\n",
                "full_data['above_avg'] = np.isin(full_data['subject'].values, above_med.index[above_med['recalled']])\n",
                "plot_data = full_data.query(\"trial_type!='NoStim'\").groupby(['subject', 'trial_type', 'session']).agg('mean').reset_index()\\\n",
                "            .groupby(['subject', 'trial_type']).agg({\"recalled\":'mean', \"session\":\"count\"})\n",
                "matched_plot_data = full_data.query(\"trial_type!='NoStim' and matched_predictions\").groupby(['subject', 'trial_type', 'session']).agg('mean').reset_index()\\\n",
                "            .groupby(['subject', 'trial_type']).agg({\"recalled\":'mean', \"session\":\"count\"})\n",
                "avg[\"positive\"] = plot_data.xs('Pos', level=1)['recalled'].values\n",
                "avg[\"negative\"] = plot_data.xs('Neg', level=1)['recalled'].values\n",
                "avg[\"sham\"] = plot_data.xs('Sham', level=1)['recalled'].values\n",
                "avg[\"pct_change\"] = 100*(plot_data.xs('Pos', level=1)['recalled'] - plot_data.xs('Neg', level=1)['recalled']).values / plot_data.xs('Neg', level=1)['recalled'].values\n",
                "avg[\"matched_pct_change\"] = 100*(matched_plot_data.xs('Pos', level=1)['recalled'] - matched_plot_data.xs('Neg', level=1)['recalled']).values / matched_plot_data.xs('Neg', level=1)['recalled'].values\n",
                "\n",
                "df = full_data.query(\"matched_predictions\").groupby([\"subject\", \"trial_type\", \"recalled\"]).agg({\"item\":\"count\"}).reset_index()\n",
                "df = df.pivot(index=[\"subject\", \"trial_type\"], columns=\"recalled\", values=\"item\")\n",
                "df.fillna(0, inplace=True)\n",
                "\n",
                "p_dict = {}\n",
                "for idx, frame in df.reset_index().groupby(\"subject\"):\n",
                "    frame = frame.query(\"trial_type in ['Pos', 'Neg']\")\n",
                "#     chi2, p, _, _= scp.stats.chi2_contingency(frame[[0, 1]].values)\n",
                "    chi2, p = scp.stats.fisher_exact(frame[[1, 0]].values)\n",
                "#     print(frame[[1, 0]].values)\n",
                "#     print(chi2, p)\n",
                "    p_dict[idx] = p\n",
                "\n",
                "avg['p'] = avg['subject'].map(p_dict)\n",
                "avg['sig'] = avg['p'] <= .05\n",
                "\n",
                "good_class_subs = [k for k in cl_result_dict if np.mean(cl_result_dict[k][3]>cl_result_dict[k][2])<.05]\n",
                "good_class_mask = np.isin(avg[\"subject\"], good_class_subs)\n",
                "good_class_subs\n",
                "avg['good_class'] = good_class_mask"
            ]
        },
        {
            "cell_type": "code",
            "execution_count": 7,
            "id": "7433bd10",
            "metadata": {},
            "outputs": [
                {
                    "data": {
                        "text/plain": [
                            "<matplotlib.collections.PathCollection at 0x2b67cf523880>"
                        ]
                    },
                    "execution_count": 7,
                    "metadata": {},
                    "output_type": "execute_result"
                },
                {
                    "data": {
                        "image/png": "[encoded data removed]",
                        "text/plain": [
                            "<Figure size 576x324 with 2 Axes>"
                        ]
                    },
                    "metadata": {
                        "needs_background": "light"
                    },
                    "output_type": "display_data"
                }
            ],
            "source": [
                "import matplotlib.pyplot as plt\n",
                "plt.rcParams['pdf.fonttype'] = 42\n",
                "plt.rcParams['savefig.facecolor']='white'\n",
                "avg_sorted = avg.sort_values(\"pct_change\").reset_index()\n",
                "fig = plt.figure(figsize=(8, 4.5))\n",
                "gs = fig.add_gridspec(1, 10)\n",
                "ax = fig.add_subplot(gs[0:8])\n",
                "# sns.barplot(data=avg_sorted, ax = ax, x=\"subject\", y=\"matched_pct_change\", \n",
                "#             facecolor=(0, 0, 0, 0), alpha=None, errcolor='none', dodge=False, edgecolor =(1,0,0,0.4))\n",
                "sns.barplot(data=avg_sorted, ax=ax, alpha=.9,\n",
                "            x=\"subject\", y=\"pct_change\", hue=\"good_class\", dodge=False, zorder=0)\n",
                "plt.xticks(ticks=np.arange(len(avg_sorted)), labels=np.arange(len(avg_sorted)))\n",
                "sns.move_legend(ax, 0, title=\"Significant Classifier\")\n",
                "avg_ax = fig.add_subplot(gs[8:10])\n",
                "avg_ax.sharey(ax)\n",
                "sns.barplot(data=avg_sorted, ax = avg_ax, x=\"good_class\", y=\"pct_change\", hue=\"good_class\", errcolor='black', ci=68, dodge=False)\n",
                "# sns.barplot(data=avg_sorted, ax=avg_ax,\n",
                "#             x=\"good_class\", y=\"matched_pct_change\", facecolor=(0, 0, 0, 0), alpha=None, errcolor='none', dodge=False, edgecolor =(1,0,0,0.4))\n",
                "avg_ax.legend_.remove()\n",
                "avg_ax.set_xticks([])\n",
                "avg_ax.set_xlabel(\"\")\n",
                "ax.tick_params(labelsize=11)\n",
                "avg_ax.tick_params(labelleft=False, labelsize=12, labelrotation=60)\n",
                "avg_ax.set_ylabel(\"\")\n",
                "ax.set_xlabel(\"Subject #\", fontsize=14)\n",
                "ax.set_ylabel(\"% Change In Recall \\n(Optimized vs. Impaired)\")\n",
                "mask05 = avg_sorted['p'] <= 0.05\n",
                "mask1 = (avg_sorted['p'] <= 0.1)&(avg_sorted['p'] > 0.05)\n",
                "ax.scatter(np.arange(len(avg))[mask05], avg_sorted[\"pct_change\"][mask05]+np.sign(avg_sorted[\"pct_change\"])[mask05]*3, marker='$**$', c='r', s=30)\n",
                "ax.scatter(np.arange(len(avg))[mask1], avg_sorted[\"pct_change\"][mask1]+np.sign(avg_sorted[\"pct_change\"])[mask1]*3, marker='$*$', c='r', s=30)\n",
                "# plt.savefig(\"FinalReport/sorted_pct_change.png\", dpi=300, bbox_inches=\"tight\")"
            ]
        },
        {
            "cell_type": "code",
            "execution_count": 8,
            "id": "cf3fd142",
            "metadata": {},
            "outputs": [
                {
                    "data": {
                        "image/png": "[encoded data removed]",
                        "text/plain": [
                            "<Figure size 576x324 with 2 Axes>"
                        ]
                    },
                    "metadata": {
                        "needs_background": "light"
                    },
                    "output_type": "display_data"
                }
            ],
            "source": [
                "import matplotlib.pyplot as plt\n",
                "plt.rcParams['pdf.fonttype'] = 42\n",
                "plt.rcParams['savefig.facecolor']='white'\n",
                "avg_sorted = avg.sort_values(\"pct_change\").reset_index()\n",
                "fig = plt.figure(figsize=(8, 4.5))\n",
                "gs = fig.add_gridspec(1, 10)\n",
                "ax = fig.add_subplot(gs[0:8])\n",
                "sns.barplot(data=avg_sorted, ax = ax, x=\"subject\", y=\"matched_pct_change\", \n",
                "            facecolor=(0, 0, 0, 0), alpha=None, errcolor='none', dodge=False, edgecolor =(1,0,0,0.4))\n",
                "sns.barplot(data=avg_sorted, ax=ax, alpha=.9,\n",
                "            x=\"subject\", y=\"pct_change\", hue=\"good_class\", dodge=False, zorder=0)\n",
                "plt.xticks(ticks=np.arange(len(avg_sorted)), labels=np.arange(len(avg_sorted)))\n",
                "sns.move_legend(ax, 0, title=\"Significant Classifier\")\n",
                "avg_ax = fig.add_subplot(gs[8:10])\n",
                "avg_ax.sharey(ax)\n",
                "sns.barplot(data=avg_sorted, ax = avg_ax, x=\"good_class\", y=\"pct_change\", hue=\"good_class\", errcolor='black', ci=68, dodge=False)\n",
                "sns.barplot(data=avg_sorted, ax=avg_ax,\n",
                "            x=\"good_class\", y=\"matched_pct_change\", facecolor=(0, 0, 0, 0), alpha=None, errcolor='none', dodge=False, edgecolor =(1,0,0,0.4))\n",
                "avg_ax.legend_.remove()\n",
                "avg_ax.set_xticks([])\n",
                "avg_ax.set_xlabel(\"\")\n",
                "ax.tick_params(labelsize=11)\n",
                "avg_ax.tick_params(labelleft=False, labelsize=12, labelrotation=60)\n",
                "avg_ax.set_ylabel(\"\")\n",
                "ax.set_xlabel(\"Subject #\", fontsize=14)\n",
                "ax.set_ylabel(\"% Change In Recall \\n(Optimized vs. Impaired)\")\n",
                "mask05 = avg_sorted['p'] <= 0.05\n",
                "mask1 = (avg_sorted['p'] <= 0.1)&(avg_sorted['p'] > 0.05)\n",
                "ax.scatter(np.arange(len(avg))[mask05], avg_sorted[\"pct_change\"][mask05]+np.sign(avg_sorted[\"pct_change\"])[mask05]*3, marker='$**$', c='r', s=30)\n",
                "ax.scatter(np.arange(len(avg))[mask1], avg_sorted[\"pct_change\"][mask1]+np.sign(avg_sorted[\"pct_change\"])[mask1]*3, marker='$*$', c='r', s=30)\n",
                "plt.savefig(\"FinalReport/sorted_pct_change_matched.pdf\", dpi=300, bbox_inches=\"tight\")"
            ]
        },
        {
            "cell_type": "code",
            "execution_count": 12,
            "id": "e29a5465",
            "metadata": {},
            "outputs": [
                {
                    "data": {
                        "text/plain": [
                            "PearsonRResult(statistic=0.36176336345372606, pvalue=0.10708782918807051)"
                        ]
                    },
                    "execution_count": 12,
                    "metadata": {},
                    "output_type": "execute_result"
                }
            ],
            "source": [
                "scp.stats.pearsonr(avg_sorted[\"CL_auc\"], avg_sorted[\"matched_pct_change\"])"
            ]
        },
        {
            "cell_type": "markdown",
            "id": "1852d73c",
            "metadata": {},
            "source": [
                "## TODO: Need to reconstruct the normalization epochs....\n",
                "They're not associated with any unity events... just use another event from the same session as an anchor to compute eegoffset?"
            ]
        },
        {
            "cell_type": "code",
            "execution_count": null,
            "id": "3090ea7a",
            "metadata": {},
            "outputs": [],
            "source": []
        },
        {
            "cell_type": "markdown",
            "id": "748c0c4a",
            "metadata": {},
            "source": [
                "## Classifiers"
            ]
        },
        {
            "cell_type": "code",
            "execution_count": 183,
            "id": "ede81c98",
            "metadata": {},
            "outputs": [],
            "source": [
                "perf = pd.read_csv(\"read_only_AUC_comparisons.csv\", index_col=0)"
            ]
        },
        {
            "cell_type": "code",
            "execution_count": null,
            "id": "a89f57bf",
            "metadata": {},
            "outputs": [],
            "source": [
                "from scipy.stats import tt"
            ]
        },
        {
            "cell_type": "code",
            "execution_count": 184,
            "id": "a2b1952b",
            "metadata": {},
            "outputs": [
                {
                    "data": {
                        "text/html": [
                            "<div>\n",
                            "<style scoped>\n",
                            "    .dataframe tbody tr th:only-of-type {\n",
                            "        vertical-align: middle;\n",
                            "    }\n",
                            "\n",
                            "    .dataframe tbody tr th {\n",
                            "        vertical-align: top;\n",
                            "    }\n",
                            "\n",
                            "    .dataframe thead th {\n",
                            "        text-align: right;\n",
                            "    }\n",
                            "</style>\n",
                            "<table border=\"1\" class=\"dataframe\">\n",
                            "  <thead>\n",
                            "    <tr style=\"text-align: right;\">\n",
                            "      <th></th>\n",
                            "      <th>subject</th>\n",
                            "      <th>AUC</th>\n",
                            "      <th>clean_AUC</th>\n",
                            "      <th>bipolar_AUC</th>\n",
                            "    </tr>\n",
                            "  </thead>\n",
                            "  <tbody>\n",
                            "    <tr>\n",
                            "      <th>0</th>\n",
                            "      <td>LTP462</td>\n",
                            "      <td>0.550459</td>\n",
                            "      <td>0.579953</td>\n",
                            "      <td>0.562681</td>\n",
                            "    </tr>\n",
                            "    <tr>\n",
                            "      <th>1</th>\n",
                            "      <td>LTP468</td>\n",
                            "      <td>0.485519</td>\n",
                            "      <td>0.513268</td>\n",
                            "      <td>0.503563</td>\n",
                            "    </tr>\n",
                            "    <tr>\n",
                            "      <th>2</th>\n",
                            "      <td>LTP470</td>\n",
                            "      <td>0.575867</td>\n",
                            "      <td>0.580269</td>\n",
                            "      <td>0.564429</td>\n",
                            "    </tr>\n",
                            "    <tr>\n",
                            "      <th>3</th>\n",
                            "      <td>LTP473</td>\n",
                            "      <td>0.522095</td>\n",
                            "      <td>0.504571</td>\n",
                            "      <td>0.534254</td>\n",
                            "    </tr>\n",
                            "    <tr>\n",
                            "      <th>4</th>\n",
                            "      <td>LTP474</td>\n",
                            "      <td>0.541850</td>\n",
                            "      <td>0.522784</td>\n",
                            "      <td>0.518758</td>\n",
                            "    </tr>\n",
                            "    <tr>\n",
                            "      <th>5</th>\n",
                            "      <td>LTP475</td>\n",
                            "      <td>0.589504</td>\n",
                            "      <td>0.514104</td>\n",
                            "      <td>0.585079</td>\n",
                            "    </tr>\n",
                            "    <tr>\n",
                            "      <th>6</th>\n",
                            "      <td>LTP476</td>\n",
                            "      <td>0.585922</td>\n",
                            "      <td>0.560292</td>\n",
                            "      <td>0.556999</td>\n",
                            "    </tr>\n",
                            "    <tr>\n",
                            "      <th>7</th>\n",
                            "      <td>LTP477</td>\n",
                            "      <td>0.619852</td>\n",
                            "      <td>0.610168</td>\n",
                            "      <td>0.607196</td>\n",
                            "    </tr>\n",
                            "    <tr>\n",
                            "      <th>8</th>\n",
                            "      <td>LTP478</td>\n",
                            "      <td>0.508076</td>\n",
                            "      <td>0.516409</td>\n",
                            "      <td>0.533869</td>\n",
                            "    </tr>\n",
                            "    <tr>\n",
                            "      <th>9</th>\n",
                            "      <td>LTP479</td>\n",
                            "      <td>0.611040</td>\n",
                            "      <td>0.594886</td>\n",
                            "      <td>0.582892</td>\n",
                            "    </tr>\n",
                            "    <tr>\n",
                            "      <th>10</th>\n",
                            "      <td>LTP481</td>\n",
                            "      <td>0.562206</td>\n",
                            "      <td>0.553101</td>\n",
                            "      <td>0.555377</td>\n",
                            "    </tr>\n",
                            "    <tr>\n",
                            "      <th>11</th>\n",
                            "      <td>LTP484</td>\n",
                            "      <td>0.619012</td>\n",
                            "      <td>0.605719</td>\n",
                            "      <td>0.617964</td>\n",
                            "    </tr>\n",
                            "    <tr>\n",
                            "      <th>12</th>\n",
                            "      <td>LTP486</td>\n",
                            "      <td>0.583892</td>\n",
                            "      <td>0.589207</td>\n",
                            "      <td>0.606511</td>\n",
                            "    </tr>\n",
                            "    <tr>\n",
                            "      <th>13</th>\n",
                            "      <td>LTP488</td>\n",
                            "      <td>0.548136</td>\n",
                            "      <td>0.585950</td>\n",
                            "      <td>0.531909</td>\n",
                            "    </tr>\n",
                            "    <tr>\n",
                            "      <th>14</th>\n",
                            "      <td>LTP493</td>\n",
                            "      <td>0.572789</td>\n",
                            "      <td>0.551286</td>\n",
                            "      <td>0.602933</td>\n",
                            "    </tr>\n",
                            "    <tr>\n",
                            "      <th>15</th>\n",
                            "      <td>LTP494</td>\n",
                            "      <td>0.553830</td>\n",
                            "      <td>0.567930</td>\n",
                            "      <td>0.568065</td>\n",
                            "    </tr>\n",
                            "    <tr>\n",
                            "      <th>16</th>\n",
                            "      <td>LTP495</td>\n",
                            "      <td>0.536795</td>\n",
                            "      <td>0.543041</td>\n",
                            "      <td>0.549347</td>\n",
                            "    </tr>\n",
                            "    <tr>\n",
                            "      <th>17</th>\n",
                            "      <td>LTP496</td>\n",
                            "      <td>0.492321</td>\n",
                            "      <td>0.492078</td>\n",
                            "      <td>0.509309</td>\n",
                            "    </tr>\n",
                            "    <tr>\n",
                            "      <th>18</th>\n",
                            "      <td>LTP497</td>\n",
                            "      <td>0.549361</td>\n",
                            "      <td>0.573299</td>\n",
                            "      <td>0.578609</td>\n",
                            "    </tr>\n",
                            "    <tr>\n",
                            "      <th>19</th>\n",
                            "      <td>LTP498</td>\n",
                            "      <td>0.523560</td>\n",
                            "      <td>0.584237</td>\n",
                            "      <td>0.572951</td>\n",
                            "    </tr>\n",
                            "    <tr>\n",
                            "      <th>20</th>\n",
                            "      <td>LTP499</td>\n",
                            "      <td>0.578350</td>\n",
                            "      <td>0.560829</td>\n",
                            "      <td>0.669621</td>\n",
                            "    </tr>\n",
                            "    <tr>\n",
                            "      <th>21</th>\n",
                            "      <td>LTP500</td>\n",
                            "      <td>0.556852</td>\n",
                            "      <td>0.520554</td>\n",
                            "      <td>0.485269</td>\n",
                            "    </tr>\n",
                            "  </tbody>\n",
                            "</table>\n",
                            "</div>"
                        ],
                        "text/plain": [
                            "   subject       AUC  clean_AUC  bipolar_AUC\n",
                            "0   LTP462  0.550459   0.579953     0.562681\n",
                            "1   LTP468  0.485519   0.513268     0.503563\n",
                            "2   LTP470  0.575867   0.580269     0.564429\n",
                            "3   LTP473  0.522095   0.504571     0.534254\n",
                            "4   LTP474  0.541850   0.522784     0.518758\n",
                            "5   LTP475  0.589504   0.514104     0.585079\n",
                            "6   LTP476  0.585922   0.560292     0.556999\n",
                            "7   LTP477  0.619852   0.610168     0.607196\n",
                            "8   LTP478  0.508076   0.516409     0.533869\n",
                            "9   LTP479  0.611040   0.594886     0.582892\n",
                            "10  LTP481  0.562206   0.553101     0.555377\n",
                            "11  LTP484  0.619012   0.605719     0.617964\n",
                            "12  LTP486  0.583892   0.589207     0.606511\n",
                            "13  LTP488  0.548136   0.585950     0.531909\n",
                            "14  LTP493  0.572789   0.551286     0.602933\n",
                            "15  LTP494  0.553830   0.567930     0.568065\n",
                            "16  LTP495  0.536795   0.543041     0.549347\n",
                            "17  LTP496  0.492321   0.492078     0.509309\n",
                            "18  LTP497  0.549361   0.573299     0.578609\n",
                            "19  LTP498  0.523560   0.584237     0.572951\n",
                            "20  LTP499  0.578350   0.560829     0.669621\n",
                            "21  LTP500  0.556852   0.520554     0.485269"
                        ]
                    },
                    "execution_count": 184,
                    "metadata": {},
                    "output_type": "execute_result"
                }
            ],
            "source": [
                "perf['AUC']"
            ]
        },
        {
            "cell_type": "code",
            "execution_count": null,
            "id": "166d4ad0",
            "metadata": {},
            "outputs": [],
            "source": []
        }
    ],
    "metadata": {
        "kernelspec": {
            "display_name": "py38",
            "language": "python",
            "name": "py38"
        },
        "language_info": {
            "codemirror_mode": {
                "name": "ipython",
                "version": 3
            },
            "file_extension": ".py",
            "mimetype": "text/x-python",
            "name": "python",
            "nbconvert_exporter": "python",
            "pygments_lexer": "ipython3",
            "version": "3.8.13"
        }
    },
    "nbformat": 4,
    "nbformat_minor": 5
}
